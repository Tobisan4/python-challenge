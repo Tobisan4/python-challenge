{
 "cells": [
  {
   "cell_type": "code",
   "execution_count": null,
   "id": "23778711",
   "metadata": {},
   "outputs": [],
   "source": [
    "# Import Modules\n",
    "import os\n",
    "import csv"
   ]
  },
  {
   "cell_type": "code",
   "execution_count": null,
   "id": "02e042e4",
   "metadata": {},
   "outputs": [],
   "source": [
    "# Set path for the file\n",
    "csv_path = os.path.join(\"Resources\", \"election_data.csv\")\n",
    "                        \n",
    "# Open the CSV\n",
    "with open(csv_path) as csv_file:\n",
    "    csv_reader = csv.reader(csv_file, delimiter=\",\")\n",
    "    \n",
    "    # Create a list that contains the voted names\n",
    "    names = []\n",
    "    \n",
    "    # Read the header row first and store it to a variable\n",
    "    csv_header = next(csv_reader)\n",
    "        \n",
    "    # Read each row of data after the header\n",
    "    for row in csv_reader:\n",
    "        \n",
    "        # Populate the \"names\" list with the information from the file\n",
    "        names.append(row[2])"
   ]
  },
  {
   "cell_type": "code",
   "execution_count": null,
   "id": "6e65fe00",
   "metadata": {},
   "outputs": [],
   "source": [
    "    # Calculate the total number of votes\n",
    "    total_votes = len(names)"
   ]
  },
  {
   "cell_type": "code",
   "execution_count": null,
   "id": "bbd75c4f",
   "metadata": {},
   "outputs": [],
   "source": [
    "    #Create a candidate's list\n",
    "    \n",
    "    # Create a list that will contain the names of all the candidates\n",
    "    candidate_list = []\n",
    "    \n",
    "    #Read all the elements in the \"names\" list\n",
    "    for entree in names:\n",
    "        \n",
    "        # Check if the name already exists on the candidate list or not\n",
    "        if entree not in candidate_list:\n",
    "            \n",
    "            # If name doesn't exist, add it to the candidate list\n",
    "            candidate_list.append(entree)"
   ]
  },
  {
   "cell_type": "code",
   "execution_count": null,
   "id": "236d8a34",
   "metadata": {},
   "outputs": [],
   "source": [
    "    # Count the number of votes each candidate received\n",
    "    \n",
    "    # Create a list that will hold the number of votes for each candidate\n",
    "    vote_count = []\n",
    "    \n",
    "    # Count the votes and record them to the \"vote_count\" list\n",
    "    for candidate1 in candidate_list:\n",
    "        \n",
    "        # Initialize vote counter\n",
    "        count = 0\n",
    "        \n",
    "        for vote in names:\n",
    "            if vote == candidate1:\n",
    "                count = count + 1\n",
    "        vote_count.append(count)"
   ]
  },
  {
   "cell_type": "code",
   "execution_count": null,
   "id": "7c102431",
   "metadata": {},
   "outputs": [],
   "source": [
    "    # Calculate the percentage of votes for each candidate\n",
    "    \n",
    "    # Create a list that will hold the percentage of votes for each candidate\n",
    "    vote_percent=[]\n",
    "    \n",
    "    # Calculate the vote percentage then record it in the \"vote_percent\" list\n",
    "    for candidate2 in candidate_list:\n",
    "        position = candidate_list.index(candidate2)\n",
    "        percentage = format((vote_count[position] / total_votes), '.3%')\n",
    "        vote_percent.append(percentage)"
   ]
  },
  {
   "cell_type": "code",
   "execution_count": null,
   "id": "d3de3134",
   "metadata": {},
   "outputs": [],
   "source": [
    "    # Determine election winner\n",
    "    winner_count = max(vote_count)\n",
    "    winner_index = vote_count.index(winner_count)\n",
    "    winner_name = candidate_list[winner_index]"
   ]
  },
  {
   "cell_type": "code",
   "execution_count": null,
   "id": "08abdf4d",
   "metadata": {},
   "outputs": [],
   "source": [
    "    #Print the results to the terminal\n",
    "    count = len(candidate_list)\n",
    "    print(\"** Election Results **\")\n",
    "    print(\"=============================\")\n",
    "    print(f\"Total Votes Counted: {total_votes}\")\n",
    "    print(\"=============================\")\n",
    "    print(\"Name  Vote_Count  Vote_%\")\n",
    "    for x in range(count):\n",
    "        print(f\"{candidate_list[x]}  {vote_count[x]}  {vote_percent[x]}\")\n",
    "    print(\"=============================\")\n",
    "    print(\"Election Winner: \" + winner_name)"
   ]
  },
  {
   "cell_type": "code",
   "execution_count": null,
   "id": "b187f860",
   "metadata": {},
   "outputs": [],
   "source": [
    "# Export the results to a text file\n",
    "\n",
    "# Combined the 3 separate lists via zip\n",
    "election_results = zip(candidate_list, vote_count, vote_percent)\n",
    "\n",
    "# Specify the file to write to\n",
    "output_path = os.path.join(\"analysis\", \"election_results.csv\")\n",
    "\n",
    "# Open the file using \"write\" mode. Specify the variable to hold the contents\n",
    "with open(output_path, 'w', newline='') as output_csv:\n",
    "\n",
    "    # Initialize csv.writer\n",
    "    csv_writer = csv.writer(output_csv, delimiter=',')\n",
    "\n",
    "    # Write the first row\n",
    "    csv_writer.writerow([\"** Election Results **\"])\n",
    "\n",
    "    # Write the second row\n",
    "    csv_writer.writerow([\"=============================\"])\n",
    "    \n",
    "    # Write the third row\n",
    "    csv_writer.writerow([\"Total Votes Counted: \" + str(total_votes)])\n",
    "    \n",
    "     # Write the fourth row\n",
    "    csv_writer.writerow([\"=============================\"])\n",
    "    \n",
    "    # Write the fifth row\n",
    "    csv_writer.writerow([\"Name\", \"Vote_Count\", \"Vote_%\"])\n",
    "    \n",
    "    # Write the sixth row\n",
    "    csv_writer.writerows(election_results)\n",
    "    \n",
    "    # Write the seventh row\n",
    "    csv_writer.writerow([\"=============================\"])\n",
    "    \n",
    "    # Write the eighth row\n",
    "    csv_writer.writerow([\"Election Winner: \" + winner_name])"
   ]
  }
 ],
 "metadata": {
  "kernelspec": {
   "display_name": "Python 3 (ipykernel)",
   "language": "python",
   "name": "python3"
  },
  "language_info": {
   "codemirror_mode": {
    "name": "ipython",
    "version": 3
   },
   "file_extension": ".py",
   "mimetype": "text/x-python",
   "name": "python",
   "nbconvert_exporter": "python",
   "pygments_lexer": "ipython3",
   "version": "3.9.7"
  }
 },
 "nbformat": 4,
 "nbformat_minor": 5
}
