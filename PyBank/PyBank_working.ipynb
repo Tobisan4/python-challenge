{
 "cells": [
  {
   "cell_type": "code",
   "execution_count": null,
   "id": "91c53b95",
   "metadata": {},
   "outputs": [],
   "source": [
    "# Import Modules\n",
    "import os\n",
    "import csv"
   ]
  },
  {
   "cell_type": "code",
   "execution_count": null,
   "id": "9a7b8ac7",
   "metadata": {},
   "outputs": [],
   "source": [
    "# Set path for the file\n",
    "csv_path = os.path.join(\"Resources\", \"budget_data.csv\")\n",
    "                        \n",
    "# Open the CSV\n",
    "with open(csv_path) as csv_file:\n",
    "    csv_reader = csv.reader(csv_file, delimiter=\",\")\n",
    "    \n",
    "    # Create 2 new lists that will contain the Month/Year and Profit/Losses information\n",
    "    month_yr = []\n",
    "    profit_loss = []\n",
    "    \n",
    "    # Read the header row first and store it to a variable\n",
    "    csv_header = next(csv_reader)\n",
    "        \n",
    "    # Read each row of data after the header\n",
    "    for row in csv_reader:\n",
    "        \n",
    "        # Populate the \"month_yr\" and \"profit_loss\" lists with the information from the file\n",
    "        month_yr.append(row[0])\n",
    "        profit_loss.append(int(row[1]))\n",
    "        \n",
    "    # Determine the total number of months included in the dataset   \n",
    "    total_months = len(month_yr)\n",
    "    \n",
    "    # Calculate the net total amount of profit/losses over the entire period\n",
    "    total_profits = round((sum(profit_loss)),2)\n",
    "        "
   ]
  },
  {
   "cell_type": "code",
   "execution_count": null,
   "id": "73a432d6",
   "metadata": {},
   "outputs": [],
   "source": [
    "    # Create a new list that will contain the monthly changes in profit/losses\n",
    "    change_profit_loss = []\n",
    "    \n",
    "    # Calculate the changes in profit/losses over the entire period and then update the \"change_profit_loss\" list\n",
    "    for counter in range(1,total_months):\n",
    "        data_current = profit_loss[counter]\n",
    "        data_before = profit_loss[counter-1]\n",
    "        delta = data_current - data_before\n",
    "        change_profit_loss.append(delta)\n",
    "    \n",
    "    # Calculate the average of the monthly changes in profit/losses\n",
    "    change_count = len(change_profit_loss)\n",
    "    change_sum = sum(change_profit_loss)\n",
    "    change_average = round((change_sum / change_count),2)\n",
    "    \n",
    "    # Determine the amount of the greatest decrease in profits\n",
    "    greatest_decrease = min(change_profit_loss)\n",
    "    \n",
    "    # Determine the amount of the greatest increase in profits\n",
    "    greatest_increase = max(change_profit_loss)\n",
    "    \n",
    "    # Determine the month/year of the greatest decrease in profits\n",
    "    greatest_decrease_index = change_profit_loss.index(greatest_decrease)\n",
    "    greatest_decrease_month = month_yr[greatest_decrease_index + 1]\n",
    "    \n",
    "    # Determine the month/year of the greatest increase in profits\n",
    "    greatest_increase_index = change_profit_loss.index(greatest_increase)\n",
    "    greatest_increase_month = month_yr[greatest_increase_index + 1]"
   ]
  },
  {
   "cell_type": "code",
   "execution_count": null,
   "id": "bcb6e3f3",
   "metadata": {},
   "outputs": [],
   "source": [
    "    # Print the results to the terminal\n",
    "    print(\"** Financial Analysis **\")\n",
    "    print(\"-----------------------------------------------\")\n",
    "    print(f\"Total Months: {total_months}\")\n",
    "    print(f\"Net Total: ${total_profits}\")\n",
    "    print(f\"Average  Change: ${change_average}\")\n",
    "    print(f\"Greatest Increase in Profits: {greatest_increase_month} (${greatest_increase})\")\n",
    "    print(f\"Greatest Decrease in Profits: {greatest_decrease_month} (${greatest_decrease})\")"
   ]
  },
  {
   "cell_type": "code",
   "execution_count": null,
   "id": "5a884dd1",
   "metadata": {},
   "outputs": [],
   "source": [
    "# Export the results to a text file\n",
    "\n",
    "# Specify the file to write to\n",
    "output_path = os.path.join(\"analysis\", \"financial_analysis_results.csv\")\n",
    "\n",
    "# Open the file using \"write\" mode. Specify the variable to hold the contents\n",
    "with open(output_path, 'w', newline='') as output_csv:\n",
    "\n",
    "    # Initialize csv.writer\n",
    "    csv_writer = csv.writer(output_csv, delimiter=',')\n",
    "\n",
    "    # Write the first row\n",
    "    csv_writer.writerow([\"** Financial Analysis **\"])\n",
    "\n",
    "    # Write the second row\n",
    "    csv_writer.writerow([\"-----------------------------------------------\"])\n",
    "    \n",
    "    # Write the third row\n",
    "    csv_writer.writerow([\"Total Months: \" + str(total_months)])\n",
    "    \n",
    "     # Write the fourth row\n",
    "    csv_writer.writerow([\"Net Total: $\"+ str(total_profits)])\n",
    "    \n",
    "    # Write the fifth row\n",
    "    csv_writer.writerow([\"Average  Change: $\" + str(change_average)])\n",
    "    \n",
    "    # Write the sixth row\n",
    "    csv_writer.writerow([\"Greatest Increase in Profits: \" + greatest_increase_month + \" ($\" + str(greatest_increase) + \")\"])\n",
    "    \n",
    "      # Write the seventh row\n",
    "    csv_writer.writerow([\"Greatest Decrease in Profits: \" + greatest_decrease_month + \" ($\" + str(greatest_decrease) + \")\"])"
   ]
  }
 ],
 "metadata": {
  "kernelspec": {
   "display_name": "Python 3 (ipykernel)",
   "language": "python",
   "name": "python3"
  },
  "language_info": {
   "codemirror_mode": {
    "name": "ipython",
    "version": 3
   },
   "file_extension": ".py",
   "mimetype": "text/x-python",
   "name": "python",
   "nbconvert_exporter": "python",
   "pygments_lexer": "ipython3",
   "version": "3.9.7"
  }
 },
 "nbformat": 4,
 "nbformat_minor": 5
}
